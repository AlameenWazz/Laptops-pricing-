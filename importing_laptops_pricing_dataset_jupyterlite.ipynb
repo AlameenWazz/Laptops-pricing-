{
  "cells": [
    {
      "cell_type": "markdown",
      "metadata": {
        "id": "view-in-github",
        "colab_type": "text"
      },
      "source": [
        "<a href=\"https://colab.research.google.com/github/AlameenWazz/Laptops-pricing-/blob/main/importing_laptops_pricing_dataset_jupyterlite.ipynb\" target=\"_parent\"><img src=\"https://colab.research.google.com/assets/colab-badge.svg\" alt=\"Open In Colab\"/></a>"
      ]
    },
    {
      "cell_type": "markdown",
      "metadata": {
        "id": "8b2f9ad0-ceed-402b-90ba-613815062c62"
      },
      "source": [
        "<p style=\"text-align:center\">\n",
        "    <a href=\"https://skills.network\" target=\"_blank\">\n",
        "    <img src=\"https://cf-courses-data.s3.us.cloud-object-storage.appdomain.cloud/assets/logos/SN_web_lightmode.png\" width=\"300\" alt=\"Skills Network Logo\">\n",
        "    </a>\n",
        "</p>\n"
      ]
    },
    {
      "cell_type": "markdown",
      "metadata": {
        "id": "18005a7e-dada-4917-9318-43b4e2bfa4f1"
      },
      "source": [
        "# **Hands-on Practice Lab: Importing Dataset - Laptops Pricing**\n",
        "\n",
        "Estimated time needed: **20** minutes\n",
        "\n",
        "In this lab, you will practice the process of loading and drawing basic insights on a dataset as learnt through the module. You are being provided with a fresh dataset on 'Laptop Pricing' which will be used for all the practice labs throughout the course.\n"
      ]
    },
    {
      "cell_type": "markdown",
      "metadata": {
        "id": "fa4f0f90-0ce8-423a-8c87-6ba51e543c14"
      },
      "source": [
        "# Objectives\n",
        "\n",
        "After completing this lab you will be able to:\n",
        "\n",
        " - Import a dataset from a CSV file to a Pandas dataframe\n",
        " - Develop some basic insights about the dataset\n"
      ]
    },
    {
      "cell_type": "markdown",
      "metadata": {
        "id": "e7000a53-cead-4ddd-9c50-c432878213b3"
      },
      "source": [
        "# Setup\n"
      ]
    },
    {
      "cell_type": "markdown",
      "metadata": {
        "id": "04df515e-7f35-4e51-8303-143f50cc5a1c"
      },
      "source": [
        "For this lab, we will be using the following libraries:\n",
        "\n",
        "* `skillsnetwork` for downloading the daataset\n",
        "\n",
        "*   [`pandas`](https://pandas.pydata.org/?utm_medium=Exinfluencer&utm_source=Exinfluencer&utm_content=000026UJ&utm_term=10006555&utm_id=NA-SkillsNetwork-Channel-SkillsNetworkCoursesIBMML0187ENSkillsNetwork31430127-2021-01-01) for managing the data.\n",
        "*   [`numpy`](https://numpy.org/?utm_medium=Exinfluencer&utm_source=Exinfluencer&utm_content=000026UJ&utm_term=10006555&utm_id=NA-SkillsNetwork-Channel-SkillsNetworkCoursesIBMML0187ENSkillsNetwork31430127-2021-01-01) for mathematical operations.\n"
      ]
    },
    {
      "cell_type": "markdown",
      "metadata": {
        "id": "8e376c61-2c2e-4eab-a72b-d4c78868c728"
      },
      "source": [
        "### Importing Required Libraries\n"
      ]
    },
    {
      "cell_type": "code",
      "metadata": {
        "id": "6717be74-3284-4d25-82d5-c2541b811b5d"
      },
      "outputs": [],
      "source": [
        "import pandas as pd\n",
        "import numpy as np"
      ],
      "execution_count": 11
    },
    {
      "cell_type": "markdown",
      "metadata": {
        "id": "50a605d5-2714-4134-a2cd-946fd25029b9"
      },
      "source": [
        "The data set to be used is available on the link below.\n"
      ]
    },
    {
      "cell_type": "markdown",
      "metadata": {
        "id": "5937008d-06ef-442b-a3ab-bf432b8aa7d7"
      },
      "source": [
        "The functions below will download the dataset into your browser:\n"
      ]
    },
    {
      "cell_type": "code",
      "metadata": {
        "id": "5807d959-93ce-4d31-a5dc-b326d9e0d77d"
      },
      "outputs": [],
      "source": [
        "import requests\n",
        "\n",
        "def download(url, filename):\n",
        "    response = requests.get(url)\n",
        "    if response.status_code == 200:\n",
        "        with open(filename, \"wb\") as f:\n",
        "            f.write(response.content)\n",
        "\n",
        "# Example usage\n",
        "download(\"https://cf-courses-data.s3.us.cloud-object-storage.appdomain.cloud/IBMDeveloperSkillsNetwork-DA0101EN-Coursera/laptop_pricing_dataset_base.csv\", \"laptops.csv\")\n"
      ],
      "execution_count": 12
    },
    {
      "cell_type": "code",
      "metadata": {
        "id": "391568d4-0285-4db5-8ce8-29760c15d128"
      },
      "outputs": [],
      "source": [
        "file_path = \"https://cf-courses-data.s3.us.cloud-object-storage.appdomain.cloud/IBMDeveloperSkillsNetwork-DA0101EN-Coursera/laptop_pricing_dataset_base.csv\""
      ],
      "execution_count": 13
    },
    {
      "cell_type": "markdown",
      "metadata": {
        "id": "6b18661e-571d-41c6-9c14-6baa5076e15e"
      },
      "source": [
        "To obtain the dataset, utilize the download() function as defined above:\n"
      ]
    },
    {
      "cell_type": "code",
      "metadata": {
        "id": "8c87419c-aeae-4fb2-9262-64613b89a755"
      },
      "outputs": [],
      "source": [
        "download(file_path, \"laptops.csv\")\n",
        "file_name=\"laptops.csv\""
      ],
      "execution_count": 14
    },
    {
      "cell_type": "code",
      "metadata": {
        "id": "c6f111d7-74f9-4a86-8c0b-43b6a431ea98"
      },
      "outputs": [],
      "source": [
        "df = pd.read_csv(file_name)"
      ],
      "execution_count": 15
    },
    {
      "cell_type": "markdown",
      "metadata": {
        "id": "2e13e011-4e32-41fd-962b-0e13431bc9e1"
      },
      "source": [
        "> Note: This version of the lab is working on JupyterLite, which requires the dataset to be downloaded to the interface. While working on the downloaded version of this notebook on their local machines, the learners can simply **skip the steps above**, and simply use the URL directly in the `pandas.read_csv()` function. You can uncomment and run the statements in the cell below.\n"
      ]
    },
    {
      "cell_type": "code",
      "metadata": {
        "id": "67786cad-ba7d-4104-842c-61e4c772d963"
      },
      "outputs": [],
      "source": [
        "#filepath = \"https://cf-courses-data.s3.us.cloud-object-storage.appdomain.cloud/IBMDeveloperSkillsNetwork-DA0101EN-Coursera/laptop_pricing_dataset_base.csv\"\n",
        "#df = pd.read_csv(filepath, header=None)"
      ],
      "execution_count": null
    },
    {
      "cell_type": "markdown",
      "metadata": {
        "id": "be0b74ed-f52f-47bc-9e95-1333c98a9d37"
      },
      "source": [
        "<h1> Task #1: </h1>\n",
        "<h3>Load the dataset to a pandas dataframe named 'df'</h3>\n",
        "Print the first 5 entries of the dataset to confirm loading.\n"
      ]
    },
    {
      "cell_type": "code",
      "metadata": {
        "colab": {
          "base_uri": "https://localhost:8080/"
        },
        "id": "d1a1a869-668a-4144-a6ad-56f992712d8e",
        "outputId": "31df801a-6bc2-40a6-c2d2-3d4b182409e6"
      },
      "outputs": [
        {
          "output_type": "stream",
          "name": "stdout",
          "text": [
            "     0   1          2   3   4   5       6    7   8    9     10    11\n",
            "0  Acer   4  IPS Panel   2   1   5   35.56  1.6   8  256   1.6   978\n",
            "1  Dell   3    Full HD   1   1   3  39.624  2.0   4  256   2.2   634\n",
            "2  Dell   3    Full HD   1   1   7  39.624  2.7   8  256   2.2   946\n",
            "3  Dell   4  IPS Panel   2   1   5  33.782  1.6   8  128  1.22  1244\n",
            "4    HP   4    Full HD   2   1   7  39.624  1.8   8  256  1.91   837\n"
          ]
        }
      ],
      "source": [
        "df = pd.read_csv(file_path, header=None)\n",
        "print(df.head())"
      ],
      "execution_count": 17
    },
    {
      "cell_type": "markdown",
      "metadata": {
        "id": "77f164e7-31b3-42ab-b39a-d93af80d8c4a"
      },
      "source": [
        "<h1> Task #2: </h1>\n",
        "<h3>Add headers to the dataframe</h3>\n",
        "The headers for the dataset, in sequence, are \"Manufacturer\", \"Category\", \"Screen\", \"GPU\", \"OS\", \"CPU_core\",\n",
        "\"Screen_Size_inch\", \"CPU_frequency\", \"RAM_GB\", \"Storage_GB_SSD\", \"Weight_kg\" and \"Price\".\n",
        "\n",
        "Confirm insertion by printing the first 10 rows of the dataset.\n"
      ]
    },
    {
      "cell_type": "code",
      "metadata": {
        "colab": {
          "base_uri": "https://localhost:8080/"
        },
        "id": "9873fe64-517a-499c-8c3a-3b32aa2c7d27",
        "outputId": "7a4bdd35-78c6-401c-e826-f49147e11316"
      },
      "outputs": [
        {
          "output_type": "stream",
          "name": "stdout",
          "text": [
            "  Manufacturer  Category     Screen  GPU  OS  CPU_core Screen_Size_inch  \\\n",
            "0         Acer         4  IPS Panel    2   1         5            35.56   \n",
            "1         Dell         3    Full HD    1   1         3           39.624   \n",
            "2         Dell         3    Full HD    1   1         7           39.624   \n",
            "3         Dell         4  IPS Panel    2   1         5           33.782   \n",
            "4           HP         4    Full HD    2   1         7           39.624   \n",
            "5         Dell         3    Full HD    1   1         5           39.624   \n",
            "6           HP         3    Full HD    3   1         5           39.624   \n",
            "7         Acer         3  IPS Panel    2   1         5             38.1   \n",
            "8         Dell         3    Full HD    1   1         5           39.624   \n",
            "9         Acer         3  IPS Panel    3   1         7             38.1   \n",
            "\n",
            "   CPU_frequency  RAM_GB  Storage_GB_SSD Weight_kg  Price  \n",
            "0            1.6       8             256       1.6    978  \n",
            "1            2.0       4             256       2.2    634  \n",
            "2            2.7       8             256       2.2    946  \n",
            "3            1.6       8             128      1.22   1244  \n",
            "4            1.8       8             256      1.91    837  \n",
            "5            1.6       8             256       2.2   1016  \n",
            "6            1.6       8             256       2.1   1117  \n",
            "7            1.6       4             256       2.2    866  \n",
            "8            2.5       4             256       2.3    812  \n",
            "9            1.8       8             256       2.2   1068  \n"
          ]
        }
      ],
      "source": [
        "# create headers list\n",
        "headers = [\"Manufacturer\", \"Category\", \"Screen\", \"GPU\", \"OS\", \"CPU_core\", \"Screen_Size_inch\", \"CPU_frequency\", \"RAM_GB\", \"Storage_GB_SSD\", \"Weight_kg\", \"Price\"]\n",
        "df.columns = headers\n",
        "print(df.head(10))"
      ],
      "execution_count": 18
    },
    {
      "cell_type": "markdown",
      "metadata": {
        "id": "25115985-9420-40cd-9df3-b50907036fff"
      },
      "source": [
        "<h1> Task #3: </h1>\n",
        "<h3>Replace '?' with 'NaN'</h3>\n",
        "Replace the '?' entries in the dataset with NaN value, recevied from the Numpy package.\n"
      ]
    },
    {
      "cell_type": "code",
      "metadata": {
        "id": "0e6ce525-7fc3-467d-ba78-3e456d427a8e"
      },
      "outputs": [],
      "source": [
        "df.replace('?',np.nan, inplace = True)"
      ],
      "execution_count": 19
    },
    {
      "cell_type": "markdown",
      "metadata": {
        "id": "103c29b5-1818-4e9a-8d8f-47952055a54a"
      },
      "source": [
        "<h1> Task #4: </h1>\n",
        "<h3>Print the data types of the dataframe columns</h3>\n",
        "Make a note of the data types of the different columns of the dataset.\n"
      ]
    },
    {
      "cell_type": "code",
      "metadata": {
        "colab": {
          "base_uri": "https://localhost:8080/"
        },
        "id": "de06321d-5427-4211-99e0-fd49113198b8",
        "outputId": "60ade58c-5e35-4563-fc5e-e6faabe52fca"
      },
      "outputs": [
        {
          "output_type": "stream",
          "name": "stdout",
          "text": [
            "Manufacturer         object\n",
            "Category              int64\n",
            "Screen               object\n",
            "GPU                   int64\n",
            "OS                    int64\n",
            "CPU_core              int64\n",
            "Screen_Size_inch     object\n",
            "CPU_frequency       float64\n",
            "RAM_GB                int64\n",
            "Storage_GB_SSD        int64\n",
            "Weight_kg            object\n",
            "Price                 int64\n",
            "dtype: object\n"
          ]
        }
      ],
      "source": [
        "print(df.dtypes)"
      ],
      "execution_count": 20
    },
    {
      "cell_type": "markdown",
      "metadata": {
        "id": "4bbdfc24-48d2-4fcf-aa14-461268ae9999"
      },
      "source": [
        "<h1> Task #5: </h1>\n",
        "<h3>Print the statistical description of the dataset, including that of 'object' data types.</h3>\n"
      ]
    },
    {
      "cell_type": "code",
      "metadata": {
        "colab": {
          "base_uri": "https://localhost:8080/"
        },
        "id": "073fbff8-296f-4838-922b-780c899bd254",
        "outputId": "f0228eab-e4cf-4853-a92a-7717cca28671"
      },
      "outputs": [
        {
          "output_type": "stream",
          "name": "stdout",
          "text": [
            "Manufacturer         object\n",
            "Category              int64\n",
            "Screen               object\n",
            "GPU                   int64\n",
            "OS                    int64\n",
            "CPU_core              int64\n",
            "Screen_Size_inch     object\n",
            "CPU_frequency       float64\n",
            "RAM_GB                int64\n",
            "Storage_GB_SSD        int64\n",
            "Weight_kg            object\n",
            "Price                 int64\n",
            "dtype: object\n"
          ]
        }
      ],
      "source": [
        "print(df.dtypes)"
      ],
      "execution_count": 21
    },
    {
      "cell_type": "markdown",
      "metadata": {
        "id": "daba3fcb-6974-4dd7-ae2a-34779dfa7979"
      },
      "source": [
        "<h1> Task #6: </h1>\n",
        "<h3>Print the summary information of the dataset.</h3>\n"
      ]
    },
    {
      "cell_type": "code",
      "metadata": {
        "colab": {
          "base_uri": "https://localhost:8080/"
        },
        "id": "a83e544c-afe6-4465-9b0c-307f6339b78a",
        "outputId": "760adf14-7173-4f06-dc46-ef39be32d3ab"
      },
      "outputs": [
        {
          "output_type": "stream",
          "name": "stdout",
          "text": [
            "<class 'pandas.core.frame.DataFrame'>\n",
            "RangeIndex: 238 entries, 0 to 237\n",
            "Data columns (total 12 columns):\n",
            " #   Column            Non-Null Count  Dtype  \n",
            "---  ------            --------------  -----  \n",
            " 0   Manufacturer      238 non-null    object \n",
            " 1   Category          238 non-null    int64  \n",
            " 2   Screen            238 non-null    object \n",
            " 3   GPU               238 non-null    int64  \n",
            " 4   OS                238 non-null    int64  \n",
            " 5   CPU_core          238 non-null    int64  \n",
            " 6   Screen_Size_inch  234 non-null    object \n",
            " 7   CPU_frequency     238 non-null    float64\n",
            " 8   RAM_GB            238 non-null    int64  \n",
            " 9   Storage_GB_SSD    238 non-null    int64  \n",
            " 10  Weight_kg         233 non-null    object \n",
            " 11  Price             238 non-null    int64  \n",
            "dtypes: float64(1), int64(7), object(4)\n",
            "memory usage: 22.4+ KB\n",
            "None\n"
          ]
        }
      ],
      "source": [
        "print(df.info())"
      ],
      "execution_count": 22
    },
    {
      "cell_type": "markdown",
      "metadata": {
        "id": "5723e76f-0e92-433b-93ac-4f39d78efde1"
      },
      "source": [
        "---\n"
      ]
    },
    {
      "cell_type": "markdown",
      "metadata": {
        "id": "5b7fabb2-ae61-405f-96fd-08ba82f76602"
      },
      "source": [
        "# Congratulations! You have completed the lab\n"
      ]
    },
    {
      "cell_type": "markdown",
      "metadata": {
        "id": "871691de-0f8b-4a82-86d8-79b10c1036fa"
      },
      "source": [
        "## Authors\n"
      ]
    },
    {
      "cell_type": "markdown",
      "metadata": {
        "id": "a20aa2a8-fdf9-48b4-b743-a94d48f69b03"
      },
      "source": [
        "[Abhishek Gagneja](https://www.coursera.org/instructor/~129186572)\n",
        "\n",
        "[Vicky Kuo](https://author.skills.network/instructors/vicky_kuo)\n"
      ]
    },
    {
      "cell_type": "markdown",
      "metadata": {
        "id": "5cdbb324-ec68-4d2e-98ab-28091a2778b1"
      },
      "source": [
        "## Change Log\n"
      ]
    },
    {
      "cell_type": "markdown",
      "metadata": {
        "id": "d8e75518-0777-4455-8fd3-9f39b5cbbb07"
      },
      "source": [
        "|Date (YYYY-MM-DD)|Version|Changed By|Change Description|\n",
        "|-|-|-|-|\n",
        "|2023-09-15|0.1|Abhishek Gagneja|Initial Version Created|\n",
        "|2023-09-18|0.2|Vicky Kuo|Reviewed and Revised|\n"
      ]
    },
    {
      "cell_type": "markdown",
      "metadata": {
        "id": "eb5cfcb3-9666-45d4-8ec0-819638da1e46"
      },
      "source": [
        "Copyright © 2023 IBM Corporation. All rights reserved.\n"
      ]
    }
  ],
  "metadata": {
    "language_info": {
      "codemirror_mode": {
        "name": "python",
        "version": 3
      },
      "file_extension": ".py",
      "mimetype": "text/x-python",
      "name": "python",
      "nbconvert_exporter": "python",
      "pygments_lexer": "ipython3",
      "version": "3.8"
    },
    "kernelspec": {
      "name": "python",
      "display_name": "Pyolite",
      "language": "python"
    },
    "colab": {
      "provenance": [],
      "include_colab_link": true
    }
  },
  "nbformat": 4,
  "nbformat_minor": 0
}